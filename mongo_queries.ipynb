{
 "cells": [
  {
   "cell_type": "code",
   "execution_count": 13,
   "metadata": {},
   "outputs": [],
   "source": [
    "import pandas as pd\n",
    "import pymongo\n",
    "from pprint import pprint"
   ]
  },
  {
   "cell_type": "markdown",
   "metadata": {},
   "source": [
    "# Basic usage of SACRED with PyMongo"
   ]
  },
  {
   "cell_type": "code",
   "execution_count": 14,
   "metadata": {},
   "outputs": [],
   "source": [
    "# Connect to client\n",
    "from pymongo import MongoClient\n",
    "client = MongoClient('localhost', 27017)"
   ]
  },
  {
   "cell_type": "markdown",
   "metadata": {},
   "source": [
    "### List databases, collections, and select from them"
   ]
  },
  {
   "cell_type": "code",
   "execution_count": 15,
   "metadata": {},
   "outputs": [
    {
     "name": "stdout",
     "output_type": "stream",
     "text": [
      "databases: ['ZSdebug', 'ZSdebug-CUB_Xian', 'ZSdebug|CUB_Xian', 'ZSdebug|None', 'admin', 'config', 'hyperopt', 'labwatch_demo_keras', 'local', 'sacred_keras_example', 'sacred_mnist', 'sacred_mnist_example']\n"
     ]
    }
   ],
   "source": [
    "print('databases:', client.list_database_names())"
   ]
  },
  {
   "cell_type": "code",
   "execution_count": 16,
   "metadata": {},
   "outputs": [],
   "source": [
    "db = client['sacred_mnist_example']"
   ]
  },
  {
   "cell_type": "code",
   "execution_count": 17,
   "metadata": {},
   "outputs": [
    {
     "name": "stdout",
     "output_type": "stream",
     "text": [
      "Collections of sacred_mnist_example db: ['runs', 'fs.files', 'fs.chunks', 'metrics']\n"
     ]
    }
   ],
   "source": [
    "print('Collections of {} db: {}'.format(db.name, db.list_collection_names()))\n"
   ]
  },
  {
   "cell_type": "markdown",
   "metadata": {},
   "source": [
    "### Example of a record (a \"document\") for a single experiment"
   ]
  },
  {
   "cell_type": "code",
   "execution_count": null,
   "metadata": {},
   "outputs": [],
   "source": [
    "exp = list(db.runs.find())[-1]\n",
    "pprint(exp.keys())\n",
    "pprint('Example of a \"document\" that represents a single experiment:')\n",
    "pprint('\\n\\n Example of configurations of several experiemts:')\n",
    "pprint(exp)"
   ]
  },
  {
   "cell_type": "markdown",
   "metadata": {},
   "source": [
    "### Example of configurations of several experiments"
   ]
  },
  {
   "cell_type": "code",
   "execution_count": 19,
   "metadata": {},
   "outputs": [
    {
     "name": "stdout",
     "output_type": "stream",
     "text": [
      "Example of configurations of several experiments:\n",
      "\n",
      "{'batch_size': 32,\n",
      " 'dropout_rate': 0.4,\n",
      " 'epochs': 10,\n",
      " 'fc_dim': 30,\n",
      " 'lr': 0.001,\n",
      " 'seed': 0}\n",
      "\n",
      "{'batch_size': 32,\n",
      " 'dropout_rate': 0.2,\n",
      " 'epochs': 10,\n",
      " 'fc_dim': 300,\n",
      " 'lr': 0.01,\n",
      " 'seed': 0}\n",
      "\n",
      "{'batch_size': 32,\n",
      " 'dropout_rate': 0.2,\n",
      " 'epochs': 10,\n",
      " 'fc_dim': 200,\n",
      " 'lr': 0.001,\n",
      " 'seed': 0}\n",
      "\n"
     ]
    }
   ],
   "source": [
    "print('Example of configurations of several experiments:\\n')\n",
    "for i, exp in enumerate(list(db.runs.find())[0:3]):\n",
    "    pprint(exp['config'])\n",
    "    print('')\n",
    "    "
   ]
  },
  {
   "cell_type": "markdown",
   "metadata": {},
   "source": [
    "# Pandas + SACRED MongoDB"
   ]
  },
  {
   "cell_type": "markdown",
   "metadata": {},
   "source": [
    "## Get a dataframe that summarize the experiements, according to a PANDAS query"
   ]
  },
  {
   "cell_type": "code",
   "execution_count": 20,
   "metadata": {},
   "outputs": [],
   "source": [
    "from collections import OrderedDict\n",
    "import pandas as pd\n",
    "import re\n",
    "\n",
    "def slice_dict(d, keys):\n",
    "    \"\"\" Returns a dictionary ordered and sliced by given keys\n",
    "        keys can be a list, or a CSV string\n",
    "    \"\"\"\n",
    "    if isinstance(keys, str):\n",
    "        keys = keys[:-1] if keys[-1] == ',' else keys\n",
    "        keys = re.split(', |[, ]', keys)\n",
    "\n",
    "    return dict((k, d[k]) for k in keys)\n",
    "\n",
    "def sacred_to_df(db_runs, mongo_query=None, ):\n",
    "    \"\"\"\n",
    "    db_runs is usually db.runs\n",
    "    returns a dataframe that summarizes the experiments, where \n",
    "    config and info fields are flattened to their keys.\n",
    "    Summary DF contains the following columns:\n",
    "    _id, experiment.name, **config, result, **info, status, start_time\n",
    "    \"\"\"\n",
    "    # get all experiment according to mongo query and represent as a pandas DataFrame    \n",
    "    df = pd.DataFrame(list(db_runs.find(mongo_query)))\n",
    "\n",
    "    # Take only the interesting columns\n",
    "    df = df.loc[:, '_id, experiment, config, result, info, status, start_time'.split(', ')]\n",
    "\n",
    "    def _summerize_experiment(s):\n",
    "        \"\"\"\n",
    "        Take only the \n",
    "        \"\"\"\n",
    "        o = OrderedDict()\n",
    "        o['_id'] = s['_id']\n",
    "        o['name']=s['experiment']['name']\n",
    "        o.update(s['config'])\n",
    "        o.update(s['info'])\n",
    "\n",
    "        o.update(slice_dict(s.to_dict(), 'result, status, start_time'))\n",
    "        return pd.Series(o)\n",
    "    \n",
    "    sum_list = []\n",
    "    for ix, s in df.iterrows():\n",
    "        sum_list.append(_summerize_experiment(s))\n",
    "    df_summary = pd.DataFrame(sum_list).set_index('_id')\n",
    "    \n",
    "    return df_summary"
   ]
  },
  {
   "cell_type": "markdown",
   "metadata": {},
   "source": [
    "### Filter according to some query"
   ]
  },
  {
   "cell_type": "code",
   "execution_count": 99,
   "metadata": {},
   "outputs": [
    {
     "data": {
      "text/html": [
       "<div>\n",
       "<style scoped>\n",
       "    .dataframe tbody tr th:only-of-type {\n",
       "        vertical-align: middle;\n",
       "    }\n",
       "\n",
       "    .dataframe tbody tr th {\n",
       "        vertical-align: top;\n",
       "    }\n",
       "\n",
       "    .dataframe thead th {\n",
       "        text-align: right;\n",
       "    }\n",
       "</style>\n",
       "<table border=\"1\" class=\"dataframe\">\n",
       "  <thead>\n",
       "    <tr style=\"text-align: right;\">\n",
       "      <th></th>\n",
       "      <th>name</th>\n",
       "      <th>batch_size</th>\n",
       "      <th>dropout_rate</th>\n",
       "      <th>epochs</th>\n",
       "      <th>fc_dim</th>\n",
       "      <th>lr</th>\n",
       "      <th>seed</th>\n",
       "      <th>test_acc</th>\n",
       "      <th>val_acc</th>\n",
       "      <th>result</th>\n",
       "      <th>status</th>\n",
       "      <th>start_time</th>\n",
       "      <th>metrics</th>\n",
       "    </tr>\n",
       "    <tr>\n",
       "      <th>_id</th>\n",
       "      <th></th>\n",
       "      <th></th>\n",
       "      <th></th>\n",
       "      <th></th>\n",
       "      <th></th>\n",
       "      <th></th>\n",
       "      <th></th>\n",
       "      <th></th>\n",
       "      <th></th>\n",
       "      <th></th>\n",
       "      <th></th>\n",
       "      <th></th>\n",
       "      <th></th>\n",
       "    </tr>\n",
       "  </thead>\n",
       "  <tbody>\n",
       "    <tr>\n",
       "      <th>36</th>\n",
       "      <td>My_Experiment</td>\n",
       "      <td>32</td>\n",
       "      <td>0.2</td>\n",
       "      <td>10</td>\n",
       "      <td>60</td>\n",
       "      <td>0.003</td>\n",
       "      <td>0</td>\n",
       "      <td>0.933</td>\n",
       "      <td>0.938</td>\n",
       "      <td>0.938</td>\n",
       "      <td>COMPLETED</td>\n",
       "      <td>2018-09-03 11:16:17.615</td>\n",
       "      <td>NaN</td>\n",
       "    </tr>\n",
       "    <tr>\n",
       "      <th>57</th>\n",
       "      <td>My_Experiment</td>\n",
       "      <td>32</td>\n",
       "      <td>0.2</td>\n",
       "      <td>10</td>\n",
       "      <td>60</td>\n",
       "      <td>0.001</td>\n",
       "      <td>0</td>\n",
       "      <td>0.928</td>\n",
       "      <td>0.938</td>\n",
       "      <td>0.938</td>\n",
       "      <td>COMPLETED</td>\n",
       "      <td>2018-09-03 11:18:01.669</td>\n",
       "      <td>NaN</td>\n",
       "    </tr>\n",
       "    <tr>\n",
       "      <th>43</th>\n",
       "      <td>My_Experiment</td>\n",
       "      <td>32</td>\n",
       "      <td>0.2</td>\n",
       "      <td>10</td>\n",
       "      <td>100</td>\n",
       "      <td>0.001</td>\n",
       "      <td>0</td>\n",
       "      <td>0.916</td>\n",
       "      <td>0.927</td>\n",
       "      <td>0.927</td>\n",
       "      <td>COMPLETED</td>\n",
       "      <td>2018-09-03 11:17:07.184</td>\n",
       "      <td>NaN</td>\n",
       "    </tr>\n",
       "    <tr>\n",
       "      <th>16</th>\n",
       "      <td>My_Experiment</td>\n",
       "      <td>32</td>\n",
       "      <td>0.3</td>\n",
       "      <td>10</td>\n",
       "      <td>60</td>\n",
       "      <td>0.001</td>\n",
       "      <td>0</td>\n",
       "      <td>0.917</td>\n",
       "      <td>0.925</td>\n",
       "      <td>0.925</td>\n",
       "      <td>COMPLETED</td>\n",
       "      <td>2018-09-03 11:07:38.196</td>\n",
       "      <td>NaN</td>\n",
       "    </tr>\n",
       "    <tr>\n",
       "      <th>20</th>\n",
       "      <td>My_Experiment</td>\n",
       "      <td>32</td>\n",
       "      <td>0.6</td>\n",
       "      <td>10</td>\n",
       "      <td>60</td>\n",
       "      <td>0.010</td>\n",
       "      <td>0</td>\n",
       "      <td>0.904</td>\n",
       "      <td>0.923</td>\n",
       "      <td>0.923</td>\n",
       "      <td>COMPLETED</td>\n",
       "      <td>2018-09-03 11:07:43.808</td>\n",
       "      <td>NaN</td>\n",
       "    </tr>\n",
       "    <tr>\n",
       "      <th>31</th>\n",
       "      <td>My_Experiment</td>\n",
       "      <td>32</td>\n",
       "      <td>0.2</td>\n",
       "      <td>10</td>\n",
       "      <td>30</td>\n",
       "      <td>0.010</td>\n",
       "      <td>0</td>\n",
       "      <td>0.923</td>\n",
       "      <td>0.920</td>\n",
       "      <td>0.920</td>\n",
       "      <td>COMPLETED</td>\n",
       "      <td>2018-09-03 11:16:11.016</td>\n",
       "      <td>NaN</td>\n",
       "    </tr>\n",
       "    <tr>\n",
       "      <th>54</th>\n",
       "      <td>My_Experiment</td>\n",
       "      <td>32</td>\n",
       "      <td>0.3</td>\n",
       "      <td>10</td>\n",
       "      <td>20</td>\n",
       "      <td>0.001</td>\n",
       "      <td>0</td>\n",
       "      <td>0.922</td>\n",
       "      <td>0.912</td>\n",
       "      <td>0.912</td>\n",
       "      <td>COMPLETED</td>\n",
       "      <td>2018-09-03 11:17:56.249</td>\n",
       "      <td>NaN</td>\n",
       "    </tr>\n",
       "    <tr>\n",
       "      <th>38</th>\n",
       "      <td>My_Experiment</td>\n",
       "      <td>32</td>\n",
       "      <td>0.2</td>\n",
       "      <td>10</td>\n",
       "      <td>60</td>\n",
       "      <td>0.010</td>\n",
       "      <td>0</td>\n",
       "      <td>0.914</td>\n",
       "      <td>0.911</td>\n",
       "      <td>0.911</td>\n",
       "      <td>COMPLETED</td>\n",
       "      <td>2018-09-03 11:16:17.698</td>\n",
       "      <td>NaN</td>\n",
       "    </tr>\n",
       "    <tr>\n",
       "      <th>45</th>\n",
       "      <td>My_Experiment</td>\n",
       "      <td>32</td>\n",
       "      <td>0.5</td>\n",
       "      <td>10</td>\n",
       "      <td>20</td>\n",
       "      <td>0.003</td>\n",
       "      <td>0</td>\n",
       "      <td>0.918</td>\n",
       "      <td>0.911</td>\n",
       "      <td>0.911</td>\n",
       "      <td>COMPLETED</td>\n",
       "      <td>2018-09-03 11:17:07.236</td>\n",
       "      <td>NaN</td>\n",
       "    </tr>\n",
       "  </tbody>\n",
       "</table>\n",
       "</div>"
      ],
      "text/plain": [
       "              name  batch_size  dropout_rate  epochs  fc_dim     lr  seed  \\\n",
       "_id                                                                         \n",
       "36   My_Experiment          32           0.2      10      60  0.003     0   \n",
       "57   My_Experiment          32           0.2      10      60  0.001     0   \n",
       "43   My_Experiment          32           0.2      10     100  0.001     0   \n",
       "16   My_Experiment          32           0.3      10      60  0.001     0   \n",
       "20   My_Experiment          32           0.6      10      60  0.010     0   \n",
       "31   My_Experiment          32           0.2      10      30  0.010     0   \n",
       "54   My_Experiment          32           0.3      10      20  0.001     0   \n",
       "38   My_Experiment          32           0.2      10      60  0.010     0   \n",
       "45   My_Experiment          32           0.5      10      20  0.003     0   \n",
       "\n",
       "     test_acc  val_acc  result     status              start_time metrics  \n",
       "_id                                                                        \n",
       "36      0.933    0.938   0.938  COMPLETED 2018-09-03 11:16:17.615     NaN  \n",
       "57      0.928    0.938   0.938  COMPLETED 2018-09-03 11:18:01.669     NaN  \n",
       "43      0.916    0.927   0.927  COMPLETED 2018-09-03 11:17:07.184     NaN  \n",
       "16      0.917    0.925   0.925  COMPLETED 2018-09-03 11:07:38.196     NaN  \n",
       "20      0.904    0.923   0.923  COMPLETED 2018-09-03 11:07:43.808     NaN  \n",
       "31      0.923    0.920   0.920  COMPLETED 2018-09-03 11:16:11.016     NaN  \n",
       "54      0.922    0.912   0.912  COMPLETED 2018-09-03 11:17:56.249     NaN  \n",
       "38      0.914    0.911   0.911  COMPLETED 2018-09-03 11:16:17.698     NaN  \n",
       "45      0.918    0.911   0.911  COMPLETED 2018-09-03 11:17:07.236     NaN  "
      ]
     },
     "metadata": {},
     "output_type": "display_data"
    }
   ],
   "source": [
    "# Get the COMPLETED experiments with dim<=100 and val. accuracy > 0.92\n",
    "query = 'status==\"COMPLETED\" and val_acc>0.91 and fc_dim<=100'\n",
    "df_summary = sacred_to_df(db.runs).query(query)\n",
    "# Sort them in descending order (best performer is first).\n",
    "df_summary = df_summary.sort_values('val_acc', ascending=False)\n",
    "display(df_summary)"
   ]
  },
  {
   "cell_type": "markdown",
   "metadata": {},
   "source": [
    "## Get raw experiments, according to the summary dataframe"
   ]
  },
  {
   "cell_type": "code",
   "execution_count": 171,
   "metadata": {},
   "outputs": [],
   "source": [
    "def query_by_df(mongo_db_runs, df=None, ids=None):\n",
    "    \"\"\"\n",
    "    Get raw experiments, according to the summary dataframe, or list of ids\n",
    "    \"\"\"\n",
    "    if ids is None:\n",
    "        ids = df.index.tolist()\n",
    "        \n",
    "    # Get a mongo iterator, according to the pandas DataFrame. \n",
    "    mongo_cursor = mongo_db_runs.find(dict(_id={'$in':ids}))\n",
    "    \n",
    "    # put raw results to a datafram\n",
    "    df_raw_results = pd.DataFrame(list(mongo_cursor)).set_index('_id')\n",
    "    \n",
    "    # reorder results according to given dataframe because Cursor iterator does not preserve order from given dataframe \n",
    "    df_raw_results = df_raw_results.reindex(ids)\n",
    "    return df_raw_results"
   ]
  },
  {
   "cell_type": "markdown",
   "metadata": {},
   "source": [
    "### Show raw experiments artifacts"
   ]
  },
  {
   "cell_type": "code",
   "execution_count": 100,
   "metadata": {},
   "outputs": [
    {
     "data": {
      "text/plain": [
       "_id\n",
       "36    [{'name': 'mnist_model.h5', 'file_id': 5b8d182...\n",
       "57    [{'name': 'mnist_model.h5', 'file_id': 5b8d188...\n",
       "43    [{'name': 'mnist_model.h5', 'file_id': 5b8d186...\n",
       "16    [{'name': 'mnist_model.h5', 'file_id': 5b8d161...\n",
       "20    [{'name': 'mnist_model.h5', 'file_id': 5b8d162...\n",
       "31    [{'name': 'mnist_model.h5', 'file_id': 5b8d182...\n",
       "54    [{'name': 'mnist_model.h5', 'file_id': 5b8d188...\n",
       "38    [{'name': 'mnist_model.h5', 'file_id': 5b8d182...\n",
       "45    [{'name': 'mnist_model.h5', 'file_id': 5b8d185...\n",
       "Name: artifacts, dtype: object"
      ]
     },
     "metadata": {},
     "output_type": "display_data"
    },
    {
     "data": {
      "text/html": [
       "<div>\n",
       "<style scoped>\n",
       "    .dataframe tbody tr th:only-of-type {\n",
       "        vertical-align: middle;\n",
       "    }\n",
       "\n",
       "    .dataframe tbody tr th {\n",
       "        vertical-align: top;\n",
       "    }\n",
       "\n",
       "    .dataframe thead th {\n",
       "        text-align: right;\n",
       "    }\n",
       "</style>\n",
       "<table border=\"1\" class=\"dataframe\">\n",
       "  <thead>\n",
       "    <tr style=\"text-align: right;\">\n",
       "      <th></th>\n",
       "      <th>artifacts</th>\n",
       "      <th>captured_out</th>\n",
       "      <th>command</th>\n",
       "      <th>config</th>\n",
       "      <th>experiment</th>\n",
       "      <th>format</th>\n",
       "      <th>heartbeat</th>\n",
       "      <th>host</th>\n",
       "      <th>info</th>\n",
       "      <th>meta</th>\n",
       "      <th>resources</th>\n",
       "      <th>result</th>\n",
       "      <th>start_time</th>\n",
       "      <th>status</th>\n",
       "      <th>stop_time</th>\n",
       "    </tr>\n",
       "    <tr>\n",
       "      <th>_id</th>\n",
       "      <th></th>\n",
       "      <th></th>\n",
       "      <th></th>\n",
       "      <th></th>\n",
       "      <th></th>\n",
       "      <th></th>\n",
       "      <th></th>\n",
       "      <th></th>\n",
       "      <th></th>\n",
       "      <th></th>\n",
       "      <th></th>\n",
       "      <th></th>\n",
       "      <th></th>\n",
       "      <th></th>\n",
       "      <th></th>\n",
       "    </tr>\n",
       "  </thead>\n",
       "  <tbody>\n",
       "    <tr>\n",
       "      <th>36</th>\n",
       "      <td>[{'name': 'mnist_model.h5', 'file_id': 5b8d182...</td>\n",
       "      <td>INFO - My_Experiment - Running command 'main'\\...</td>\n",
       "      <td>main</td>\n",
       "      <td>{'batch_size': 32, 'dropout_rate': 0.2, 'epoch...</td>\n",
       "      <td>{'name': 'My_Experiment', 'base_dir': '/home/l...</td>\n",
       "      <td>MongoObserver-0.7.0</td>\n",
       "      <td>2018-09-03 11:16:59.617</td>\n",
       "      <td>{'hostname': 'ctx19', 'os': ['Linux', 'Linux-3...</td>\n",
       "      <td>{'test_acc': 0.933, 'val_acc': 0.938}</td>\n",
       "      <td>{'command': 'main', 'options': {'--capture': N...</td>\n",
       "      <td>[]</td>\n",
       "      <td>0.938</td>\n",
       "      <td>2018-09-03 11:16:17.615</td>\n",
       "      <td>COMPLETED</td>\n",
       "      <td>2018-09-03 11:16:59.598</td>\n",
       "    </tr>\n",
       "    <tr>\n",
       "      <th>57</th>\n",
       "      <td>[{'name': 'mnist_model.h5', 'file_id': 5b8d188...</td>\n",
       "      <td>INFO - My_Experiment - Running command 'main'\\...</td>\n",
       "      <td>main</td>\n",
       "      <td>{'batch_size': 32, 'dropout_rate': 0.2, 'epoch...</td>\n",
       "      <td>{'name': 'My_Experiment', 'base_dir': '/home/l...</td>\n",
       "      <td>MongoObserver-0.7.0</td>\n",
       "      <td>2018-09-03 11:18:38.465</td>\n",
       "      <td>{'hostname': 'ctx19', 'os': ['Linux', 'Linux-3...</td>\n",
       "      <td>{'test_acc': 0.928, 'val_acc': 0.938}</td>\n",
       "      <td>{'command': 'main', 'options': {'--print_confi...</td>\n",
       "      <td>[]</td>\n",
       "      <td>0.938</td>\n",
       "      <td>2018-09-03 11:18:01.669</td>\n",
       "      <td>COMPLETED</td>\n",
       "      <td>2018-09-03 11:18:38.449</td>\n",
       "    </tr>\n",
       "    <tr>\n",
       "      <th>43</th>\n",
       "      <td>[{'name': 'mnist_model.h5', 'file_id': 5b8d186...</td>\n",
       "      <td>INFO - My_Experiment - Running command 'main'\\...</td>\n",
       "      <td>main</td>\n",
       "      <td>{'batch_size': 32, 'dropout_rate': 0.2, 'epoch...</td>\n",
       "      <td>{'name': 'My_Experiment', 'base_dir': '/home/l...</td>\n",
       "      <td>MongoObserver-0.7.0</td>\n",
       "      <td>2018-09-03 11:17:55.196</td>\n",
       "      <td>{'hostname': 'ctx19', 'os': ['Linux', 'Linux-3...</td>\n",
       "      <td>{'test_acc': 0.916, 'val_acc': 0.927}</td>\n",
       "      <td>{'command': 'main', 'options': {'--comment': N...</td>\n",
       "      <td>[]</td>\n",
       "      <td>0.927</td>\n",
       "      <td>2018-09-03 11:17:07.184</td>\n",
       "      <td>COMPLETED</td>\n",
       "      <td>2018-09-03 11:17:55.178</td>\n",
       "    </tr>\n",
       "    <tr>\n",
       "      <th>16</th>\n",
       "      <td>[{'name': 'mnist_model.h5', 'file_id': 5b8d161...</td>\n",
       "      <td>INFO - My_Experiment - Running command 'main'\\...</td>\n",
       "      <td>main</td>\n",
       "      <td>{'batch_size': 32, 'dropout_rate': 0.3, 'epoch...</td>\n",
       "      <td>{'name': 'My_Experiment', 'base_dir': '/home/l...</td>\n",
       "      <td>MongoObserver-0.7.0</td>\n",
       "      <td>2018-09-03 11:08:16.104</td>\n",
       "      <td>{'hostname': 'ctx19', 'os': ['Linux', 'Linux-3...</td>\n",
       "      <td>{'test_acc': 0.917, 'val_acc': 0.925}</td>\n",
       "      <td>{'command': 'main', 'options': {'--priority': ...</td>\n",
       "      <td>[]</td>\n",
       "      <td>0.925</td>\n",
       "      <td>2018-09-03 11:07:38.196</td>\n",
       "      <td>COMPLETED</td>\n",
       "      <td>2018-09-03 11:08:16.093</td>\n",
       "    </tr>\n",
       "    <tr>\n",
       "      <th>20</th>\n",
       "      <td>[{'name': 'mnist_model.h5', 'file_id': 5b8d162...</td>\n",
       "      <td>INFO - My_Experiment - Running command 'main'\\...</td>\n",
       "      <td>main</td>\n",
       "      <td>{'batch_size': 32, 'dropout_rate': 0.6, 'epoch...</td>\n",
       "      <td>{'name': 'My_Experiment', 'base_dir': '/home/l...</td>\n",
       "      <td>MongoObserver-0.7.0</td>\n",
       "      <td>2018-09-03 11:08:26.072</td>\n",
       "      <td>{'hostname': 'ctx19', 'os': ['Linux', 'Linux-3...</td>\n",
       "      <td>{'test_acc': 0.904, 'val_acc': 0.923}</td>\n",
       "      <td>{'command': 'main', 'options': {'--loglevel': ...</td>\n",
       "      <td>[]</td>\n",
       "      <td>0.923</td>\n",
       "      <td>2018-09-03 11:07:43.808</td>\n",
       "      <td>COMPLETED</td>\n",
       "      <td>2018-09-03 11:08:26.052</td>\n",
       "    </tr>\n",
       "  </tbody>\n",
       "</table>\n",
       "</div>"
      ],
      "text/plain": [
       "                                             artifacts  \\\n",
       "_id                                                      \n",
       "36   [{'name': 'mnist_model.h5', 'file_id': 5b8d182...   \n",
       "57   [{'name': 'mnist_model.h5', 'file_id': 5b8d188...   \n",
       "43   [{'name': 'mnist_model.h5', 'file_id': 5b8d186...   \n",
       "16   [{'name': 'mnist_model.h5', 'file_id': 5b8d161...   \n",
       "20   [{'name': 'mnist_model.h5', 'file_id': 5b8d162...   \n",
       "\n",
       "                                          captured_out command  \\\n",
       "_id                                                              \n",
       "36   INFO - My_Experiment - Running command 'main'\\...    main   \n",
       "57   INFO - My_Experiment - Running command 'main'\\...    main   \n",
       "43   INFO - My_Experiment - Running command 'main'\\...    main   \n",
       "16   INFO - My_Experiment - Running command 'main'\\...    main   \n",
       "20   INFO - My_Experiment - Running command 'main'\\...    main   \n",
       "\n",
       "                                                config  \\\n",
       "_id                                                      \n",
       "36   {'batch_size': 32, 'dropout_rate': 0.2, 'epoch...   \n",
       "57   {'batch_size': 32, 'dropout_rate': 0.2, 'epoch...   \n",
       "43   {'batch_size': 32, 'dropout_rate': 0.2, 'epoch...   \n",
       "16   {'batch_size': 32, 'dropout_rate': 0.3, 'epoch...   \n",
       "20   {'batch_size': 32, 'dropout_rate': 0.6, 'epoch...   \n",
       "\n",
       "                                            experiment               format  \\\n",
       "_id                                                                           \n",
       "36   {'name': 'My_Experiment', 'base_dir': '/home/l...  MongoObserver-0.7.0   \n",
       "57   {'name': 'My_Experiment', 'base_dir': '/home/l...  MongoObserver-0.7.0   \n",
       "43   {'name': 'My_Experiment', 'base_dir': '/home/l...  MongoObserver-0.7.0   \n",
       "16   {'name': 'My_Experiment', 'base_dir': '/home/l...  MongoObserver-0.7.0   \n",
       "20   {'name': 'My_Experiment', 'base_dir': '/home/l...  MongoObserver-0.7.0   \n",
       "\n",
       "                  heartbeat  \\\n",
       "_id                           \n",
       "36  2018-09-03 11:16:59.617   \n",
       "57  2018-09-03 11:18:38.465   \n",
       "43  2018-09-03 11:17:55.196   \n",
       "16  2018-09-03 11:08:16.104   \n",
       "20  2018-09-03 11:08:26.072   \n",
       "\n",
       "                                                  host  \\\n",
       "_id                                                      \n",
       "36   {'hostname': 'ctx19', 'os': ['Linux', 'Linux-3...   \n",
       "57   {'hostname': 'ctx19', 'os': ['Linux', 'Linux-3...   \n",
       "43   {'hostname': 'ctx19', 'os': ['Linux', 'Linux-3...   \n",
       "16   {'hostname': 'ctx19', 'os': ['Linux', 'Linux-3...   \n",
       "20   {'hostname': 'ctx19', 'os': ['Linux', 'Linux-3...   \n",
       "\n",
       "                                      info  \\\n",
       "_id                                          \n",
       "36   {'test_acc': 0.933, 'val_acc': 0.938}   \n",
       "57   {'test_acc': 0.928, 'val_acc': 0.938}   \n",
       "43   {'test_acc': 0.916, 'val_acc': 0.927}   \n",
       "16   {'test_acc': 0.917, 'val_acc': 0.925}   \n",
       "20   {'test_acc': 0.904, 'val_acc': 0.923}   \n",
       "\n",
       "                                                  meta resources  result  \\\n",
       "_id                                                                        \n",
       "36   {'command': 'main', 'options': {'--capture': N...        []   0.938   \n",
       "57   {'command': 'main', 'options': {'--print_confi...        []   0.938   \n",
       "43   {'command': 'main', 'options': {'--comment': N...        []   0.927   \n",
       "16   {'command': 'main', 'options': {'--priority': ...        []   0.925   \n",
       "20   {'command': 'main', 'options': {'--loglevel': ...        []   0.923   \n",
       "\n",
       "                 start_time     status               stop_time  \n",
       "_id                                                             \n",
       "36  2018-09-03 11:16:17.615  COMPLETED 2018-09-03 11:16:59.598  \n",
       "57  2018-09-03 11:18:01.669  COMPLETED 2018-09-03 11:18:38.449  \n",
       "43  2018-09-03 11:17:07.184  COMPLETED 2018-09-03 11:17:55.178  \n",
       "16  2018-09-03 11:07:38.196  COMPLETED 2018-09-03 11:08:16.093  \n",
       "20  2018-09-03 11:07:43.808  COMPLETED 2018-09-03 11:08:26.052  "
      ]
     },
     "execution_count": 100,
     "metadata": {},
     "output_type": "execute_result"
    }
   ],
   "source": [
    "df_raw = query_by_df(db.runs, df_summary)\n",
    "# show the results of the 'artifacts' field (resulting files)\n",
    "display(df_raw.artifacts)\n",
    "# who the dataframe that holds the raw experiments information\n",
    "df_raw.head()"
   ]
  },
  {
   "cell_type": "markdown",
   "metadata": {},
   "source": [
    "### Load and evaluate the best model"
   ]
  },
  {
   "cell_type": "markdown",
   "metadata": {},
   "source": [
    "#### Load the best model"
   ]
  },
  {
   "cell_type": "code",
   "execution_count": 28,
   "metadata": {},
   "outputs": [],
   "source": [
    "!mkdir /tmp/mnist_model"
   ]
  },
  {
   "cell_type": "code",
   "execution_count": 77,
   "metadata": {},
   "outputs": [],
   "source": [
    "import gridfs\n",
    "fs = gridfs.GridFS(db)\n",
    "\n",
    "def exp_artifacts_to_dict(list_artifacts):\n",
    "    \"\"\" Converts a list of artifacts to a dictionary of {filename:file_id}  \"\"\"\n",
    "    d = {}\n",
    "    for ar in list_artifacts:\n",
    "        ar_name = ar['name']\n",
    "        if ar_name in d.keys():\n",
    "            raise(RuntimeError('%s artifact has duplicates'%ar_name))\n",
    "        d[ar_name] = ar['file_id']\n",
    "    return d    "
   ]
  },
  {
   "cell_type": "code",
   "execution_count": 79,
   "metadata": {},
   "outputs": [],
   "source": [
    "model_fname = 'mnist_model.h5'\n",
    "\n",
    "# get file_id of best model from the first row in the df_raw DataFrame\n",
    "gfs_best_model = exp_artifacts_to_dict(df_raw.artifacts.iloc[0])[model_fname]\n",
    "\n",
    "# Can't load Keras model directly from GridFS. Therefore, we first copy the model \n",
    "# to /tmp (on OS filesystem), and then load it from there\n",
    "\n",
    "# Read the model from GridFS\n",
    "model_bytes = fs.get(gfs_best_model).read()\n",
    "# Write the model to the OS filesystem\n",
    "tmp_model_fname = '/tmp/mnist_model/model.h5'\n",
    "with open(tmp_model_fname, 'wb') as f:\n",
    "    f.write(model_bytes)\n",
    "\n",
    "# Load the model to Keras, from OS filesystem\n",
    "import tensorflow.keras as keras\n",
    "model = keras.models.load_model(tmp_model_fname)\n",
    "    "
   ]
  },
  {
   "cell_type": "markdown",
   "metadata": {},
   "source": [
    "#### Evaluate data on the model"
   ]
  },
  {
   "cell_type": "code",
   "execution_count": 81,
   "metadata": {},
   "outputs": [
    {
     "name": "stdout",
     "output_type": "stream",
     "text": [
      "x_train shape: (1000, 28, 28, 1)\n",
      "1000 train samples\n",
      "1000 val samples\n",
      "1000 test samples\n"
     ]
    }
   ],
   "source": [
    "# Load data\n",
    "import mnist_keras\n",
    "_, _, x_train, y_train, x_val, y_val, x_test, y_test = mnist_keras.prepare_data()"
   ]
  },
  {
   "cell_type": "code",
   "execution_count": 82,
   "metadata": {},
   "outputs": [
    {
     "name": "stdout",
     "output_type": "stream",
     "text": [
      "1000/1000 [==============================] - 0s 197us/step\n",
      "val accuracy =  0.938\n"
     ]
    }
   ],
   "source": [
    "# Evaluate model\n",
    "val_loss, val_accuracy = model.evaluate(x_val, y_val)\n",
    "print('val accuracy = ', val_accuracy)"
   ]
  },
  {
   "cell_type": "markdown",
   "metadata": {},
   "source": [
    "## Delete model files (\"artifacts\") from all experiments except best  3 "
   ]
  },
  {
   "cell_type": "code",
   "execution_count": 168,
   "metadata": {},
   "outputs": [],
   "source": [
    "import gridfs\n",
    "def delete_artifact(name_to_delete, experiment_id, db):\n",
    "    fs = gridfs.GridFS(db)\n",
    "    ex = db.runs.find_one(dict(_id=experiment_id))\n",
    "    updated_artifacts = []\n",
    "    for i, artifact in enumerate(ex['artifacts']):\n",
    "        if artifact['name'] == name_to_delete:\n",
    "            fs.delete(artifact['file_id'])\n",
    "            if fs.exists(artifact['file_id']):\n",
    "                raise RuntimeError('Failed to delete artifact, {}'.format(artifact))\n",
    "            else:\n",
    "                # deleted successfuly, then don't add to updated_artifacts list \n",
    "                pass\n",
    "        else:\n",
    "            updated_artifacts.append(artifact)\n",
    "    ex['artifacts'] = updated_artifacts\n",
    "    db.runs.update_one({'_id':experiment_id}, {\"$set\": ex})\n"
   ]
  },
  {
   "cell_type": "code",
   "execution_count": 169,
   "metadata": {},
   "outputs": [],
   "source": [
    "# Delete all model files except of best 3 models\n",
    "for ex_id in df_summary.index.tolist()[3:]:\n",
    "    delete_artifact('mnist_model.h5', ex_id, db)"
   ]
  },
  {
   "cell_type": "code",
   "execution_count": 172,
   "metadata": {},
   "outputs": [
    {
     "data": {
      "text/plain": [
       "_id\n",
       "36    [{'name': 'mnist_model.h5', 'file_id': 5b8d182...\n",
       "57    [{'name': 'mnist_model.h5', 'file_id': 5b8d188...\n",
       "43    [{'name': 'mnist_model.h5', 'file_id': 5b8d186...\n",
       "16                                                   []\n",
       "20                                                   []\n",
       "31                                                   []\n",
       "54                                                   []\n",
       "38                                                   []\n",
       "45                                                   []\n",
       "Name: artifacts, dtype: object"
      ]
     },
     "execution_count": 172,
     "metadata": {},
     "output_type": "execute_result"
    }
   ],
   "source": [
    "# Show results\n",
    "df_raw = query_by_df(db.runs, df_summary)\n",
    "df_raw.artifacts"
   ]
  },
  {
   "cell_type": "code",
   "execution_count": null,
   "metadata": {},
   "outputs": [],
   "source": []
  }
 ],
 "metadata": {
  "kernelspec": {
   "display_name": "Python 3",
   "language": "python",
   "name": "python3"
  },
  "language_info": {
   "codemirror_mode": {
    "name": "ipython",
    "version": 3
   },
   "file_extension": ".py",
   "mimetype": "text/x-python",
   "name": "python",
   "nbconvert_exporter": "python",
   "pygments_lexer": "ipython3",
   "version": "3.6.6"
  }
 },
 "nbformat": 4,
 "nbformat_minor": 2
}
