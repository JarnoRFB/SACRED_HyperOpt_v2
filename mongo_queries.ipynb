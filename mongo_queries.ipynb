{
 "cells": [
  {
   "cell_type": "code",
   "execution_count": 1,
   "metadata": {},
   "outputs": [],
   "source": [
    "import pandas as pd\n",
    "import pymongo\n",
    "from pprint import pprint"
   ]
  },
  {
   "cell_type": "markdown",
   "metadata": {},
   "source": [
    "# Basic usage of SACRED with PyMongo"
   ]
  },
  {
   "cell_type": "code",
   "execution_count": 2,
   "metadata": {},
   "outputs": [],
   "source": [
    "# Connect to client\n",
    "from pymongo import MongoClient\n",
    "client = MongoClient('localhost', 27017)"
   ]
  },
  {
   "cell_type": "markdown",
   "metadata": {},
   "source": [
    "### List databases, collections, and select from them"
   ]
  },
  {
   "cell_type": "code",
   "execution_count": 3,
   "metadata": {},
   "outputs": [
    {
     "name": "stdout",
     "output_type": "stream",
     "text": [
      "databases: ['ZSdebug', 'ZSdebug-CUB_Xian', 'ZSdebug|CUB_Xian', 'ZSdebug|None', 'admin', 'config', 'hyperopt', 'labwatch_demo_keras', 'local', 'sacred_keras_example', 'sacred_mnist']\n"
     ]
    }
   ],
   "source": [
    "print('databases:', client.list_database_names())"
   ]
  },
  {
   "cell_type": "code",
   "execution_count": 4,
   "metadata": {},
   "outputs": [],
   "source": [
    "db = client['sacred_mnist']"
   ]
  },
  {
   "cell_type": "code",
   "execution_count": 5,
   "metadata": {},
   "outputs": [
    {
     "name": "stdout",
     "output_type": "stream",
     "text": [
      "Collections of sacred_mnist db: ['metrics', 'fs.files', 'fs.chunks', 'runs']\n"
     ]
    }
   ],
   "source": [
    "print('Collections of {} db: {}'.format(db.name, db.list_collection_names()))\n"
   ]
  },
  {
   "cell_type": "markdown",
   "metadata": {},
   "source": [
    "### Example of a record (a \"document\") for a single experiment"
   ]
  },
  {
   "cell_type": "code",
   "execution_count": null,
   "metadata": {},
   "outputs": [],
   "source": [
    "exp = list(db.runs.find())[-1]\n",
    "pprint(exp.keys())\n",
    "pprint('Example of a \"document\" that represents a single experiment:')\n",
    "pprint('\\n\\n Example of configurations of several experiemts:')\n",
    "pprint(exp)"
   ]
  },
  {
   "cell_type": "markdown",
   "metadata": {},
   "source": [
    "### Example of configurations of several experiments"
   ]
  },
  {
   "cell_type": "code",
   "execution_count": 7,
   "metadata": {},
   "outputs": [
    {
     "name": "stdout",
     "output_type": "stream",
     "text": [
      "Example of configurations of several experiments:\n",
      "\n",
      "{'batch_size': 32,\n",
      " 'dropout_rate': 0.30000000000000004,\n",
      " 'epochs': 10,\n",
      " 'fc_dim': 96.0,\n",
      " 'lr': 0.00042,\n",
      " 'seed': 0}\n",
      "\n",
      "{'batch_size': 32,\n",
      " 'dropout_rate': 0.8,\n",
      " 'epochs': 10,\n",
      " 'fc_dim': 192.0,\n",
      " 'lr': 0.0033900000000000002,\n",
      " 'seed': 0}\n",
      "\n",
      "{'batch_size': 32,\n",
      " 'dropout_rate': 0.5,\n",
      " 'epochs': 10,\n",
      " 'fc_dim': 112.0,\n",
      " 'lr': 6.000000000000001e-05,\n",
      " 'seed': 0}\n",
      "\n"
     ]
    }
   ],
   "source": [
    "print('Example of configurations of several experiments:\\n')\n",
    "for i, exp in enumerate(list(db.runs.find())[0:3]):\n",
    "    pprint(exp['config'])\n",
    "    print('')\n",
    "    "
   ]
  },
  {
   "cell_type": "markdown",
   "metadata": {},
   "source": [
    "# Pandas + SACRED MongoDB"
   ]
  },
  {
   "cell_type": "markdown",
   "metadata": {},
   "source": [
    "## Get a dataframe that summarize the experiements, according to a PANDAS query"
   ]
  },
  {
   "cell_type": "code",
   "execution_count": 8,
   "metadata": {},
   "outputs": [],
   "source": [
    "from collections import OrderedDict\n",
    "import pandas as pd\n",
    "import re\n",
    "\n",
    "def slice_dict(d, keys):\n",
    "    \"\"\" Returns a dictionary ordered and sliced by given keys\n",
    "        keys can be a list, or a CSV string\n",
    "    \"\"\"\n",
    "    if isinstance(keys, str):\n",
    "        keys = keys[:-1] if keys[-1] == ',' else keys\n",
    "        keys = re.split(', |[, ]', keys)\n",
    "\n",
    "    return dict((k, d[k]) for k in keys)\n",
    "\n",
    "def sacred_to_df(db_runs, mongo_query=None, ):\n",
    "    \"\"\"\n",
    "    db_runs is usually db.runs\n",
    "    returns a dataframe that summarizes the experiments, where \n",
    "    config and info fields are flattened to their keys.\n",
    "    Summary DF contains the following columns:\n",
    "    _id, experiment.name, **config, result, **info, status, start_time\n",
    "    \"\"\"\n",
    "    # get all experiment according to mongo query and represent as a pandas DataFrame    \n",
    "    df = pd.DataFrame(list(db_runs.find(mongo_query)))\n",
    "\n",
    "    # Take only the interesting columns\n",
    "    df = df.loc[:, '_id, experiment, config, result, info, status, start_time'.split(', ')]\n",
    "\n",
    "    def _summerize_experiment(s):\n",
    "        \"\"\"\n",
    "        Take only the \n",
    "        \"\"\"\n",
    "        o = OrderedDict()\n",
    "        o['_id'] = s['_id']\n",
    "        o['name']=s['experiment']['name']\n",
    "        o.update(s['config'])\n",
    "        o.update(s['info'])\n",
    "\n",
    "        o.update(slice_dict(s.to_dict(), 'result, status, start_time'))\n",
    "        return pd.Series(o)\n",
    "    \n",
    "    sum_list = []\n",
    "    for ix, s in df.iterrows():\n",
    "        sum_list.append(_summerize_experiment(s))\n",
    "    df_summary = pd.DataFrame(sum_list)\n",
    "    \n",
    "    return df_summary"
   ]
  },
  {
   "cell_type": "code",
   "execution_count": 9,
   "metadata": {},
   "outputs": [
    {
     "data": {
      "text/html": [
       "<div>\n",
       "<style scoped>\n",
       "    .dataframe tbody tr th:only-of-type {\n",
       "        vertical-align: middle;\n",
       "    }\n",
       "\n",
       "    .dataframe tbody tr th {\n",
       "        vertical-align: top;\n",
       "    }\n",
       "\n",
       "    .dataframe thead th {\n",
       "        text-align: right;\n",
       "    }\n",
       "</style>\n",
       "<table border=\"1\" class=\"dataframe\">\n",
       "  <thead>\n",
       "    <tr style=\"text-align: right;\">\n",
       "      <th></th>\n",
       "      <th>_id</th>\n",
       "      <th>name</th>\n",
       "      <th>batch_size</th>\n",
       "      <th>epochs</th>\n",
       "      <th>lr</th>\n",
       "      <th>fc_dim</th>\n",
       "      <th>dropout_rate</th>\n",
       "      <th>seed</th>\n",
       "      <th>result</th>\n",
       "      <th>status</th>\n",
       "      <th>start_time</th>\n",
       "      <th>metrics</th>\n",
       "      <th>test_acc</th>\n",
       "      <th>val_acc</th>\n",
       "    </tr>\n",
       "  </thead>\n",
       "  <tbody>\n",
       "    <tr>\n",
       "      <th>101</th>\n",
       "      <td>102</td>\n",
       "      <td>My_Experiment</td>\n",
       "      <td>32</td>\n",
       "      <td>10</td>\n",
       "      <td>0.00755</td>\n",
       "      <td>72.0</td>\n",
       "      <td>0.65</td>\n",
       "      <td>0</td>\n",
       "      <td>0.942</td>\n",
       "      <td>COMPLETED</td>\n",
       "      <td>2018-08-24 18:50:49.721</td>\n",
       "      <td>NaN</td>\n",
       "      <td>0.922</td>\n",
       "      <td>0.942</td>\n",
       "    </tr>\n",
       "    <tr>\n",
       "      <th>134</th>\n",
       "      <td>483</td>\n",
       "      <td>My_Experiment</td>\n",
       "      <td>32</td>\n",
       "      <td>10</td>\n",
       "      <td>0.00300</td>\n",
       "      <td>1000.0</td>\n",
       "      <td>0.60</td>\n",
       "      <td>0</td>\n",
       "      <td>0.94</td>\n",
       "      <td>COMPLETED</td>\n",
       "      <td>2018-08-28 10:20:55.482</td>\n",
       "      <td>NaN</td>\n",
       "      <td>0.945</td>\n",
       "      <td>0.940</td>\n",
       "    </tr>\n",
       "    <tr>\n",
       "      <th>104</th>\n",
       "      <td>105</td>\n",
       "      <td>My_Experiment</td>\n",
       "      <td>32</td>\n",
       "      <td>10</td>\n",
       "      <td>0.00190</td>\n",
       "      <td>56.0</td>\n",
       "      <td>0.55</td>\n",
       "      <td>0</td>\n",
       "      <td>0.937</td>\n",
       "      <td>COMPLETED</td>\n",
       "      <td>2018-08-24 18:50:53.974</td>\n",
       "      <td>NaN</td>\n",
       "      <td>0.933</td>\n",
       "      <td>0.937</td>\n",
       "    </tr>\n",
       "    <tr>\n",
       "      <th>120</th>\n",
       "      <td>469</td>\n",
       "      <td>My_Experiment</td>\n",
       "      <td>32</td>\n",
       "      <td>10</td>\n",
       "      <td>0.00300</td>\n",
       "      <td>30.0</td>\n",
       "      <td>0.30</td>\n",
       "      <td>0</td>\n",
       "      <td>0.93</td>\n",
       "      <td>COMPLETED</td>\n",
       "      <td>2018-08-28 10:15:17.061</td>\n",
       "      <td>NaN</td>\n",
       "      <td>0.936</td>\n",
       "      <td>0.930</td>\n",
       "    </tr>\n",
       "    <tr>\n",
       "      <th>135</th>\n",
       "      <td>484</td>\n",
       "      <td>My_Experiment</td>\n",
       "      <td>32</td>\n",
       "      <td>10</td>\n",
       "      <td>0.00100</td>\n",
       "      <td>1000.0</td>\n",
       "      <td>0.20</td>\n",
       "      <td>0</td>\n",
       "      <td>0.929</td>\n",
       "      <td>COMPLETED</td>\n",
       "      <td>2018-08-28 10:20:55.721</td>\n",
       "      <td>NaN</td>\n",
       "      <td>0.921</td>\n",
       "      <td>0.929</td>\n",
       "    </tr>\n",
       "  </tbody>\n",
       "</table>\n",
       "</div>"
      ],
      "text/plain": [
       "     _id           name  batch_size  epochs       lr  fc_dim  dropout_rate  \\\n",
       "101  102  My_Experiment          32      10  0.00755    72.0          0.65   \n",
       "134  483  My_Experiment          32      10  0.00300  1000.0          0.60   \n",
       "104  105  My_Experiment          32      10  0.00190    56.0          0.55   \n",
       "120  469  My_Experiment          32      10  0.00300    30.0          0.30   \n",
       "135  484  My_Experiment          32      10  0.00100  1000.0          0.20   \n",
       "\n",
       "     seed result     status              start_time metrics  test_acc  val_acc  \n",
       "101     0  0.942  COMPLETED 2018-08-24 18:50:49.721     NaN     0.922    0.942  \n",
       "134     0   0.94  COMPLETED 2018-08-28 10:20:55.482     NaN     0.945    0.940  \n",
       "104     0  0.937  COMPLETED 2018-08-24 18:50:53.974     NaN     0.933    0.937  \n",
       "120     0   0.93  COMPLETED 2018-08-28 10:15:17.061     NaN     0.936    0.930  \n",
       "135     0  0.929  COMPLETED 2018-08-28 10:20:55.721     NaN     0.921    0.929  "
      ]
     },
     "execution_count": 9,
     "metadata": {},
     "output_type": "execute_result"
    }
   ],
   "source": [
    "sacred_to_df(db.runs).query('status==\"COMPLETED\" and val_acc>0.92').sort_values('val_acc', ascending=False).head()"
   ]
  },
  {
   "cell_type": "markdown",
   "metadata": {},
   "source": [
    "## Get a mongo iterator, according to a PANDAS query"
   ]
  },
  {
   "cell_type": "code",
   "execution_count": 10,
   "metadata": {},
   "outputs": [],
   "source": [
    "def query_by_pandas(mongo_db_runs, query):\n",
    "    ids = sacred_to_df(mongo_db_runs).query(query).loc[:, '_id']\n",
    "    mongo_cursor = db.runs.find(dict(_id={'$in':ids.tolist()}))\n",
    "    return mongo_cursor"
   ]
  },
  {
   "cell_type": "code",
   "execution_count": 11,
   "metadata": {},
   "outputs": [
    {
     "data": {
      "text/plain": [
       "0     []\n",
       "1     []\n",
       "2     []\n",
       "3     []\n",
       "4     []\n",
       "5     []\n",
       "6     []\n",
       "7     []\n",
       "8     []\n",
       "9     []\n",
       "10    []\n",
       "11    []\n",
       "Name: artifacts, dtype: object"
      ]
     },
     "execution_count": 11,
     "metadata": {},
     "output_type": "execute_result"
    }
   ],
   "source": [
    "# Get a mongo iterator, according to a PANDAS query\n",
    "mongo_cursor = query_by_pandas(db.runs, 'status==\"COMPLETED\" and val_acc>0.92')\n",
    "\n",
    "# aggregate the results of a specific field\n",
    "pd.DataFrame(list(mongo_cursor)).loc[:, 'artifacts']"
   ]
  },
  {
   "cell_type": "code",
   "execution_count": null,
   "metadata": {},
   "outputs": [],
   "source": []
  }
 ],
 "metadata": {
  "kernelspec": {
   "display_name": "Python 3",
   "language": "python",
   "name": "python3"
  },
  "language_info": {
   "codemirror_mode": {
    "name": "ipython",
    "version": 3
   },
   "file_extension": ".py",
   "mimetype": "text/x-python",
   "name": "python",
   "nbconvert_exporter": "python",
   "pygments_lexer": "ipython3",
   "version": "3.6.6"
  }
 },
 "nbformat": 4,
 "nbformat_minor": 2
}
